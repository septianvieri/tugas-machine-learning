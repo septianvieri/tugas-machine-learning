{
 "cells": [
  {
   "cell_type": "markdown",
   "id": "0da7e6af-7039-47a9-b891-3e61e977fb2d",
   "metadata": {},
   "source": [
    "Tugas Machine Learning"
   ]
  },
  {
   "cell_type": "markdown",
   "id": "ccd681bf",
   "metadata": {},
   "source": [
    "Septian Vieri - 20220801410"
   ]
  },
  {
   "cell_type": "markdown",
   "id": "356fe87e",
   "metadata": {},
   "source": [
    "Soal 1\n",
    "\n",
    "Buatlah identitas diri menggunakan pemograman python sederhana"
   ]
  },
  {
   "cell_type": "code",
   "execution_count": 1,
   "id": "4b6406ba-6ddc-404a-9011-b47926c72915",
   "metadata": {},
   "outputs": [
    {
     "name": "stdout",
     "output_type": "stream",
     "text": [
      "DATA DIRI\n",
      "Nama :  Septian Vieri\n",
      "NIM :  20220801410\n",
      "Program Studi :  Teknik Informatika\n",
      "Fakultas : Ilmu Komputer\n"
     ]
    }
   ],
   "source": [
    "nama = \"Septian Vieri\"\n",
    "nomor_induk_mahasiswa = \"20220801410\"\n",
    "program_studi = \"Teknik Informatika\"\n",
    "fakultas = \"Ilmu Komputer\"\n",
    "\n",
    "print(\"DATA DIRI\")\n",
    "print(\"Nama : \", nama)\n",
    "print(\"NIM : \", nomor_induk_mahasiswa)\n",
    "print(\"Program Studi : \", program_studi)\n",
    "print(\"Fakultas :\", fakultas)"
   ]
  },
  {
   "cell_type": "markdown",
   "id": "0a9cbba6-18ef-4674-b246-ab1ba96a7bcc",
   "metadata": {},
   "source": [
    "Soal 2\n",
    "\n",
    "Buatlah matriksC dengan orde 2x3, dan nilai yang diberikan pada matriksC adalah sebagai berikut:\n",
    "\n",
    "Baris 1 Kolom 1, nilai = 1\n",
    "\n",
    "Baris 1 Kolom 2, nilai = 2\n",
    "\n",
    "Baris 1 Kolom 3, nilai = 3\n",
    "\n",
    "Baris 2 Kolom 1, nilai = 4\n",
    "\n",
    "Baris 2 Kolom 2, nilai = 5\n",
    "\n",
    "Baris 2 Kolom 3, nilai = 6"
   ]
  },
  {
   "cell_type": "code",
   "execution_count": 2,
   "id": "b75b942f-fca7-4a82-892c-7e57a54f2497",
   "metadata": {},
   "outputs": [
    {
     "name": "stdout",
     "output_type": "stream",
     "text": [
      "[[1, 2, 3], [4, 5, 6]]\n"
     ]
    }
   ],
   "source": [
    "#jawaban soal2\n",
    "matriksC= [[1,2,3],[4,5,6]]\n",
    "print(matriksC)"
   ]
  },
  {
   "cell_type": "markdown",
   "id": "748d7417",
   "metadata": {},
   "source": [
    "Soal 3\n",
    "\n",
    "Buatlah matriks dengan orde 3x2, dengan nilai adalah:\n",
    "\n",
    "Baris 1 Kolom 1, nilai = 2\n",
    "\n",
    "Baris 1 Kolom 2, nilai = 2\n",
    "\n",
    "Baris 2 Kolom 1, nilai = 2\n",
    "\n",
    "Baris 2 Kolom 2, nilai = 2\n",
    "\n",
    "Baris 3 Kolom 1, nilai = 2\n",
    "\n",
    "Baris 3 Kolom 2, nilai = 2"
   ]
  },
  {
   "cell_type": "code",
   "execution_count": 3,
   "id": "470a2b0b-605d-4b9b-8bae-89bd42ac08dd",
   "metadata": {},
   "outputs": [
    {
     "name": "stdout",
     "output_type": "stream",
     "text": [
      "[[2, 2], [2, 2], [2, 2]]\n"
     ]
    }
   ],
   "source": [
    "#jawaban soal 3\n",
    "matriks = [[2,2],[2,2],[2,2]]\n",
    "print(matriks)"
   ]
  },
  {
   "cell_type": "markdown",
   "id": "ac5fba34",
   "metadata": {},
   "source": [
    "Soal 4\n",
    "\n",
    "Importlah library Numpy"
   ]
  },
  {
   "cell_type": "code",
   "execution_count": 4,
   "id": "233dd6fb",
   "metadata": {},
   "outputs": [],
   "source": [
    "import numpy as np"
   ]
  },
  {
   "cell_type": "markdown",
   "id": "13fabef7",
   "metadata": {},
   "source": [
    "Soal 5\n",
    "\n",
    "Dengan memanfaatkan library numpy Buatlah matriks dengan menggunakan Library Numpy dengan panjang elemen adalah 32 dan matriks memiliki orde 4x8"
   ]
  },
  {
   "cell_type": "code",
   "execution_count": 5,
   "id": "50ab33f3",
   "metadata": {},
   "outputs": [
    {
     "name": "stdout",
     "output_type": "stream",
     "text": [
      "[[ 0  1  2  3  4  5  6  7]\n",
      " [ 8  9 10 11 12 13 14 15]\n",
      " [16 17 18 19 20 21 22 23]\n",
      " [24 25 26 27 28 29 30 31]]\n"
     ]
    }
   ],
   "source": [
    "#jawaban 5\n",
    "from numpy import *\n",
    "matriks = range(32)\n",
    "matriks = reshape(matriks, (4,8))\n",
    "print(matriks)"
   ]
  },
  {
   "cell_type": "markdown",
   "id": "a215380c",
   "metadata": {},
   "source": [
    "Soal 6\n",
    "\n",
    "Buatlah matriks dengan menggunakan Library Numpy dengan orde 3x30, dan nilai elemen dimulai dari indeks 1 sampai dengan 5 secara random."
   ]
  },
  {
   "cell_type": "code",
   "execution_count": 6,
   "id": "c664e005",
   "metadata": {},
   "outputs": [
    {
     "name": "stdout",
     "output_type": "stream",
     "text": [
      "[[1 4 4 3 2 1 2 3 2 1 1 2 1 1 3 3 4 4 3 1 4 2 3 3 3 2 2 4 4 3]\n",
      " [1 4 4 3 2 2 2 1 2 1 4 2 3 4 3 4 1 4 3 4 2 3 3 4 3 2 3 1 2 4]\n",
      " [4 1 4 2 2 4 4 2 1 2 2 1 3 4 3 2 4 3 3 2 3 1 1 3 3 4 3 4 2 1]]\n"
     ]
    }
   ],
   "source": [
    "#jawaban 6\n",
    "import numpy as np\n",
    "from numpy import *\n",
    "\n",
    "matriks = np.random.randint(1,5,(3,30))\n",
    "print(matriks)"
   ]
  }
 ],
 "metadata": {
  "kernelspec": {
   "display_name": "Python 3 (ipykernel)",
   "language": "python",
   "name": "python3"
  },
  "language_info": {
   "codemirror_mode": {
    "name": "ipython",
    "version": 3
   },
   "file_extension": ".py",
   "mimetype": "text/x-python",
   "name": "python",
   "nbconvert_exporter": "python",
   "pygments_lexer": "ipython3",
   "version": "3.10.6"
  }
 },
 "nbformat": 4,
 "nbformat_minor": 5
}
